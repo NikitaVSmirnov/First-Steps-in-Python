{
 "cells": [
  {
   "cell_type": "markdown",
   "id": "52ed7ab9",
   "metadata": {},
   "source": [
    "# Week 4 Friday Project: Creating Hangman"
   ]
  },
  {
   "attachments": {},
   "cell_type": "markdown",
   "id": "c9dd20a4",
   "metadata": {},
   "source": [
    "## Logic:\n",
    "1.\tSelect a word to play with.\n",
    "\n",
    "\n",
    "2.\tAsk user for input.\n",
    "\n",
    "\n",
    "3.\tCheck if guess is correct.\n",
    "\n",
    "    a.\tIf it is, show the letter in the proper place.\n",
    "\n",
    "    b.\tIf it isn’t, lose a life.\n",
    " \n",
    " \n",
    "4.\tContinue steps 2 and 3 until one of the following occurs:\n",
    "\n",
    "    a.\tThe user guesses the word correctly.\n",
    "\n",
    "    b.\tThe user loses all their lives."
   ]
  },
  {
   "cell_type": "code",
   "execution_count": 29,
   "id": "92fb752c",
   "metadata": {},
   "outputs": [
    {
     "name": "stdout",
     "output_type": "stream",
     "text": [
      "Enter the word: abca\n",
      "The guessed Word is:  **** \n",
      "You have 5 lives left\n",
      "Please enter a letter:a\n",
      "You guessed correctly!\n",
      "\n",
      "The guessed Word is:  a**a \n",
      "You have 5 lives left\n",
      "Please enter a letter:b\n",
      "You guessed correctly!\n",
      "\n",
      "The guessed Word is:  ab*a \n",
      "You have 5 lives left\n",
      "Please enter a letter:d\n",
      "You guessed wrong.\n",
      "\n",
      "The guessed Word is:  ab*a \n",
      "You have 4 lives left\n",
      "Please enter a letter:c\n",
      "You guessed correctly!\n",
      "\n",
      "\n",
      "You have finished the game!\n"
     ]
    }
   ],
   "source": [
    "GuessedWord=input(\"Enter the word: \")\n",
    "Lives=5\n",
    "ShownWord=\"*\" * len(GuessedWord)\n",
    "\n",
    "while Lives > 0 and \"*\" in ShownWord: # As long as there are lives and the word is not guessed\n",
    "\n",
    "    print(\"The guessed Word is: \", ShownWord, \"\\nYou have\", Lives, \"lives left\")\n",
    "    \n",
    "    InputLetter=input(\"Please enter a letter:\")\n",
    "    \n",
    "    if InputLetter in GuessedWord:\n",
    "            \n",
    "        for LetterIndex in range(len(GuessedWord)):\n",
    "                \n",
    "            if InputLetter == GuessedWord [LetterIndex]:\n",
    "                    \n",
    "                ShownWord = ShownWord [:LetterIndex] + InputLetter + ShownWord [LetterIndex+1:] # Change letter using slicing\n",
    "                    \n",
    "        print (\"You guessed correctly!\\n\")\n",
    "                \n",
    "    else:\n",
    "            \n",
    "        print (\"You guessed wrong.\\n\")\n",
    "            \n",
    "        Lives -= 1\n",
    "\n",
    "print (\"\\nYou have finished the game!\")"
   ]
  },
  {
   "cell_type": "code",
   "execution_count": null,
   "id": "0f516c9f",
   "metadata": {},
   "outputs": [],
   "source": []
  }
 ],
 "metadata": {
  "kernelspec": {
   "display_name": "Python 3 (ipykernel)",
   "language": "python",
   "name": "python3"
  },
  "language_info": {
   "codemirror_mode": {
    "name": "ipython",
    "version": 3
   },
   "file_extension": ".py",
   "mimetype": "text/x-python",
   "name": "python",
   "nbconvert_exporter": "python",
   "pygments_lexer": "ipython3",
   "version": "3.9.12"
  }
 },
 "nbformat": 4,
 "nbformat_minor": 5
}
