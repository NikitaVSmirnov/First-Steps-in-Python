{
 "cells": [
  {
   "cell_type": "markdown",
   "id": "8dd20ca1",
   "metadata": {},
   "source": [
    "## Week 5\n",
    "\n",
    "Removing by Index: In the shopping cart program, set up the remove function so that you can remove via the index as well. Set the list up so that it prints out as a numbered list, and when asked to remove an item, the user can also type out a number next to the list item. For example, using the following you can type “1” to remove “Grapes”:"
   ]
  },
  {
   "cell_type": "code",
   "execution_count": 18,
   "id": "53f800fa",
   "metadata": {},
   "outputs": [
    {
     "name": "stdout",
     "output_type": "stream",
     "text": [
      "Please enter a position to add in a cart and type exit when finished: Bread\n",
      "Please enter a position to add in a cart and type exit when finished: Milk\n",
      "Please enter a position to add in a cart and type exit when finished: Soda\n",
      "Please enter a position to add in a cart and type exit when finished: exit\n",
      "Thank you, the order is completed\n",
      "\n",
      "Yor cart contains the following items:\n",
      " {1: 'Bread', 2: 'Milk', 3: 'Soda'}\n",
      "\n",
      "Please type an item number to remove item or type 0 to exit:1\n",
      "Item  Bread has been removed from your cart.\n",
      "Yor cart now contains the following items:\n",
      " {2: 'Milk', 3: 'Soda'}\n",
      "\n",
      "Please type an item number to remove item or type 0 to exit:2\n",
      "Item  Milk has been removed from your cart.\n",
      "Yor cart now contains the following items:\n",
      " {3: 'Soda'}\n",
      "\n",
      "Please type an item number to remove item or type 0 to exit:0\n"
     ]
    }
   ],
   "source": [
    "# Defining gobal variables\n",
    "\n",
    "cart = {}\n",
    "item = ('')\n",
    "Counter = 0\n",
    "\n",
    "# Adding items to cart\n",
    "\n",
    "while item !=\"exit\":\n",
    "    \n",
    "    Counter += 1\n",
    "    item = input (\"Please enter a position to add in a cart and type exit when finished: \")\n",
    "    if item == \"exit\":\n",
    "        print (\"Thank you, the order is completed\\n\")\n",
    "        break\n",
    "    else:\n",
    "        cart[Counter]=item\n",
    "\n",
    "print (\"Yor cart contains the following items:\\n\", cart)\n",
    "\n",
    "def RemoveItem(ItemNr): # Function to remove items\n",
    "    \n",
    "    print(\"Item \", cart[ItemNr], \"has been removed from your cart.\")\n",
    "    cart.pop(ItemNr)\n",
    "\n",
    "    #TODO: Rebuild index\n",
    "    \n",
    "while True:\n",
    "    \n",
    "    RI=int(input(\"\\nPlease type an item number to remove form cart or type 0 to exit:\"))\n",
    "\n",
    "    if RI==0:\n",
    "        \n",
    "            break\n",
    "    \n",
    "    RemoveItem(RI)\n",
    "\n",
    "    print (\"Yor cart now contains the following items:\\n\", cart)"
   ]
  }
 ],
 "metadata": {
  "kernelspec": {
   "display_name": "Python 3 (ipykernel)",
   "language": "python",
   "name": "python3"
  },
  "language_info": {
   "codemirror_mode": {
    "name": "ipython",
    "version": 3
   },
   "file_extension": ".py",
   "mimetype": "text/x-python",
   "name": "python",
   "nbconvert_exporter": "python",
   "pygments_lexer": "ipython3",
   "version": "3.9.12"
  }
 },
 "nbformat": 4,
 "nbformat_minor": 5
}
