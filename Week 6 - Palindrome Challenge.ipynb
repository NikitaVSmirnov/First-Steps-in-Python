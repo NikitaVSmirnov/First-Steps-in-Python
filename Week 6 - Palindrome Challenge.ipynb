{
 "cells": [
  {
   "cell_type": "markdown",
   "id": "f61ee8f4",
   "metadata": {},
   "source": [
    "## Week 6: \n",
    "    \n",
    "This week’s challenge is to write a function that checks if a word is a palindrome. The function should take in a single parameter and return True or False. "
   ]
  },
  {
   "cell_type": "code",
   "execution_count": 11,
   "id": "1f373043",
   "metadata": {},
   "outputs": [
    {
     "name": "stdout",
     "output_type": "stream",
     "text": [
      "Please enter a word you want to check: ab2c2ba\n",
      "this word is a palindrome\n"
     ]
    }
   ],
   "source": [
    "def PalindromeCheck(Word):\n",
    "    \n",
    "    WordLength = len(Word)\n",
    "    IsPalindrome = True\n",
    "    \n",
    "    i=1\n",
    "    \n",
    "    while i <= WordLength // 2:\n",
    "        \n",
    "        if Word[i-1] != Word [-i]:\n",
    "            \n",
    "            IsPalindrome = False\n",
    "        \n",
    "        i += 1\n",
    "        \n",
    "    if IsPalindrome == False:\n",
    "        \n",
    "        print (\"this word is not a palindrome\")\n",
    "    \n",
    "    else:\n",
    "        \n",
    "        print (\"this word is a palindrome\")\n",
    "\n",
    "    \n",
    "PalindromeCheck(input(\"Please enter a word you want to check: \"))"
   ]
  }
 ],
 "metadata": {
  "kernelspec": {
   "display_name": "Python 3 (ipykernel)",
   "language": "python",
   "name": "python3"
  },
  "language_info": {
   "codemirror_mode": {
    "name": "ipython",
    "version": 3
   },
   "file_extension": ".py",
   "mimetype": "text/x-python",
   "name": "python",
   "nbconvert_exporter": "python",
   "pygments_lexer": "ipython3",
   "version": "3.9.12"
  }
 },
 "nbformat": 4,
 "nbformat_minor": 5
}
