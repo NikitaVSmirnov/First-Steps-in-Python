{
 "cells": [
  {
   "cell_type": "code",
   "execution_count": 4,
   "id": "08123933",
   "metadata": {},
   "outputs": [],
   "source": [
    "class Employee:\n",
    "    \n",
    "        num_of_emps = 0\n",
    "        raise_amount = 1.04 # Class Variable\n",
    "        \n",
    "        def __init__(self, first, last, pay): # Init method, \"Self\" - Instance; This method is called \"Setter\"\n",
    "            self.first = first\n",
    "            self.last = last\n",
    "            self.pay = pay\n",
    "            self.email = first + '.' + last + '@company.com'\n",
    "            \n",
    "            Employee.num_of_emps += 1\n",
    "            \n",
    "        def fullname (self): #This method is calles \"Getter\"\n",
    "            return \"{} {}\".format(self.first, self.last)\n",
    "        \n",
    "        def apply_raise (self):\n",
    "            self.pay = int(self.pay * self.raise_amount)\n",
    "            \n"
   ]
  },
  {
   "cell_type": "code",
   "execution_count": 18,
   "id": "68db560e",
   "metadata": {},
   "outputs": [
    {
     "name": "stdout",
     "output_type": "stream",
     "text": [
      "{'first': 'Ivan', 'last': 'Petrov', 'pay': 10000, 'email': 'Ivan.Petrovcompany.com'}\n",
      "{'__module__': '__main__', 'num_of_emps': 22, 'raise_amount': 1.04, '__init__': <function Employee.__init__ at 0x00000190E7DB4280>, 'fullname': <function Employee.fullname at 0x00000190E7DB4310>, 'apply_raise': <function Employee.apply_raise at 0x00000190E7DB43A0>, '__dict__': <attribute '__dict__' of 'Employee' objects>, '__weakref__': <attribute '__weakref__' of 'Employee' objects>, '__doc__': None}\n",
      "22\n"
     ]
    }
   ],
   "source": [
    "emp1 = Employee(\"Ivan\", \"Petrov\", 10000) # Instance\n",
    "emp2 = Employee(\"Petr\", \"Ivanov\", 50000)\n",
    "\n",
    "print(emp1.__dict__)\n",
    "\n",
    "print(Employee.__dict__)\n",
    "\n",
    "print(Employee.num_of_emps)\n",
    "\n",
    "emp1.apply_raise()"
   ]
  },
  {
   "cell_type": "markdown",
   "id": "cbf61642",
   "metadata": {},
   "source": [
    "Wednesday Exercises\n",
    "1. Animals: Create a class definition of an animal that has a species attribute and both a setter and getter to change or access the attributes value. Create an instance called “lion,” and call the setter method with an argument of “feline.” Then print out the species "
   ]
  },
  {
   "cell_type": "code",
   "execution_count": 25,
   "id": "c36efaf2",
   "metadata": {},
   "outputs": [
    {
     "name": "stdout",
     "output_type": "stream",
     "text": [
      "feline\n"
     ]
    }
   ],
   "source": [
    "class Animals:\n",
    "    \n",
    "    def __init__ (self, species):\n",
    "        self.species = species\n",
    "        \n",
    "lion = Animals(\"feline\")\n",
    "\n",
    "print (lion.species)"
   ]
  },
  {
   "cell_type": "markdown",
   "id": "dfc03b59",
   "metadata": {},
   "source": [
    "2. User Input: Create a class Person that takes in a name when instantiated but sets an age to 0. Within the class definition setup, a setter and getter that will ask the user to input their age and set the age attribute to the value input. Then output the information in a formatted string as “You are 64 years old.” Assuming the user inputs 64 as their age."
   ]
  },
  {
   "cell_type": "code",
   "execution_count": 30,
   "id": "dfbc3e66",
   "metadata": {},
   "outputs": [
    {
     "name": "stdout",
     "output_type": "stream",
     "text": [
      "Please input your age: 21\n"
     ]
    }
   ],
   "source": [
    "class Person:\n",
    "    \n",
    "    def __init__ (self, name):\n",
    "        self.name = name\n",
    "        self.age = 0\n",
    "    \n",
    "    def enter_name (self):\n",
    "    \n",
    "        self.age = input(\"Please input your age: \")\n",
    "        \n",
    "P1 = Person(\"Mike\")\n",
    "\n",
    "P1.enter_name()\n",
    "\n",
    "print(\"Yoz ar\")"
   ]
  }
 ],
 "metadata": {
  "kernelspec": {
   "display_name": "Python 3 (ipykernel)",
   "language": "python",
   "name": "python3"
  },
  "language_info": {
   "codemirror_mode": {
    "name": "ipython",
    "version": 3
   },
   "file_extension": ".py",
   "mimetype": "text/x-python",
   "name": "python",
   "nbconvert_exporter": "python",
   "pygments_lexer": "ipython3",
   "version": "3.9.12"
  }
 },
 "nbformat": 4,
 "nbformat_minor": 5
}
