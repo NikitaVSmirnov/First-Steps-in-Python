{
 "cells": [
  {
   "cell_type": "code",
   "execution_count": 3,
   "id": "e8c07cf9",
   "metadata": {},
   "outputs": [
    {
     "ename": "SyntaxError",
     "evalue": "invalid non-printable character U+00A0 (702939891.py, line 4)",
     "output_type": "error",
     "traceback": [
      "\u001b[1;36m  Input \u001b[1;32mIn [3]\u001b[1;36m\u001b[0m\n\u001b[1;33m    def __init__(self, color):\u001b[0m\n\u001b[1;37m    ^\u001b[0m\n\u001b[1;31mSyntaxError\u001b[0m\u001b[1;31m:\u001b[0m invalid non-printable character U+00A0\n"
     ]
    }
   ],
   "source": [
    "# using and accessing global class attributes\n",
    "class Car( ):\n",
    "    sound = \"beep\" # global attribute, accessible through the class itself\n",
    "    def __init__(self, color):\n",
    "        self.color = \"blue\"     # instance specific attribute, not accessible through the class itself\n",
    "\n",
    "ford = Car(\"blue\")\n",
    "print(ford.sound, ford.color)   # color will work as this is an instance"
   ]
  },
  {
   "cell_type": "code",
   "execution_count": 4,
   "id": "4bfb27e8",
   "metadata": {},
   "outputs": [],
   "source": [
    "class Employee:\n",
    "    \n",
    "        num_of_emps = 0\n",
    "        raise_amount = 1.04 # Class Variable\n",
    "        \n",
    "        def __init__(self, first, last, pay): # Init method, \"Self\" - Instance; This method is called \"Setter\"\n",
    "            self.first = first\n",
    "            self.last = last\n",
    "            self.pay = pay\n",
    "            self.email = first + '.' + last + '@company.com'\n",
    "            \n",
    "            Employee.num_of_emps += 1\n",
    "            \n",
    "        def fullname (self): #This method is calles \"Getter\"\n",
    "            return \"{} {}\".format(self.first, self.last)\n",
    "        \n",
    "        def apply_raise (self):\n",
    "            self.pay = int(self.pay * self.raise_amount)\n",
    "            \n"
   ]
  },
  {
   "cell_type": "code",
   "execution_count": 18,
   "id": "9a8a9e65",
   "metadata": {},
   "outputs": [
    {
     "name": "stdout",
     "output_type": "stream",
     "text": [
      "{'first': 'Ivan', 'last': 'Petrov', 'pay': 10000, 'email': 'Ivan.Petrovcompany.com'}\n",
      "{'__module__': '__main__', 'num_of_emps': 22, 'raise_amount': 1.04, '__init__': <function Employee.__init__ at 0x00000190E7DB4280>, 'fullname': <function Employee.fullname at 0x00000190E7DB4310>, 'apply_raise': <function Employee.apply_raise at 0x00000190E7DB43A0>, '__dict__': <attribute '__dict__' of 'Employee' objects>, '__weakref__': <attribute '__weakref__' of 'Employee' objects>, '__doc__': None}\n",
      "22\n"
     ]
    }
   ],
   "source": [
    "emp1 = Employee(\"Ivan\", \"Petrov\", 10000) # Instance\n",
    "emp2 = Employee(\"Petr\", \"Ivanov\", 50000)\n",
    "\n",
    "print(emp1.__dict__)\n",
    "\n",
    "print(Employee.__dict__)\n",
    "\n",
    "print(Employee.num_of_emps)\n",
    "\n",
    "emp1.apply_raise()"
   ]
  },
  {
   "cell_type": "markdown",
   "id": "4e57b9e4",
   "metadata": {},
   "source": [
    "Wednesday Exercises\n",
    "1. Animals: Create a class definition of an animal that has a species attribute and both a setter and getter to change or access the attributes value. Create an instance called “lion,” and call the setter method with an argument of “feline.” Then print out the species "
   ]
  },
  {
   "cell_type": "code",
   "execution_count": null,
   "id": "1479c7bf",
   "metadata": {},
   "outputs": [],
   "source": []
  },
  {
   "cell_type": "code",
   "execution_count": 25,
   "id": "76c8b5b4",
   "metadata": {},
   "outputs": [
    {
     "name": "stdout",
     "output_type": "stream",
     "text": [
      "feline\n"
     ]
    }
   ],
   "source": [
    "class Animals:\n",
    "    \n",
    "    def __init__ (self, species):\n",
    "        self.species = species\n",
    "        \n",
    "lion = Animals(\"feline\")\n",
    "\n",
    "print (lion.species)"
   ]
  },
  {
   "cell_type": "markdown",
   "id": "ebf89bf4",
   "metadata": {},
   "source": [
    "2. User Input: Create a class Person that takes in a name when instantiated but sets an age to 0. Within the class definition setup, a setter and getter that will ask the user to input their age and set the age attribute to the value input. Then output the information in a formatted string as “You are 64 years old.” Assuming the user inputs 64 as their age."
   ]
  },
  {
   "cell_type": "code",
   "execution_count": 31,
   "id": "c5590581",
   "metadata": {},
   "outputs": [
    {
     "name": "stdout",
     "output_type": "stream",
     "text": [
      "Please input your age: 12\n",
      "You are 12 years old\n"
     ]
    }
   ],
   "source": [
    "class Person:\n",
    "    \n",
    "    def __init__ (self, name):\n",
    "        self.name = name\n",
    "        self.age = 0\n",
    "    \n",
    "    def enter_name (self):\n",
    "    \n",
    "        self.age = input(\"Please input your age: \")\n",
    "        \n",
    "P1 = Person(\"Mike\")\n",
    "\n",
    "P1.enter_name()\n",
    "\n",
    "print(\"You are {} years old\".format(P1.age))"
   ]
  },
  {
   "cell_type": "markdown",
   "id": "baaf0731",
   "metadata": {},
   "source": [
    "# Inheritance\n",
    "\n"
   ]
  },
  {
   "cell_type": "code",
   "execution_count": 36,
   "id": "3a0ec576",
   "metadata": {},
   "outputs": [
    {
     "name": "stdout",
     "output_type": "stream",
     "text": [
      "Canine\n"
     ]
    }
   ],
   "source": [
    "# using the super( ) method to declare inherited attributes\n",
    "class Animal( ):\n",
    "    def __init__(self, species):\n",
    "        self.species = species\n",
    "\n",
    "class Dog(Animal):\n",
    "    def __init__(self, species, name):\n",
    "        self.name = name\n",
    "        super( ).__init__(species) # using super to declare the species attribute defined in Animal\n",
    "\n",
    "sam = Dog(\"Canine\", \"Sammi\")\n",
    "\n",
    "print(sam.species)"
   ]
  },
  {
   "cell_type": "markdown",
   "id": "365a3f7e",
   "metadata": {},
   "source": [
    "# Thursday Exercises\n",
    "1.\tGood Guys/Bad Guys: Create three classes, a superclass called “Characters” that will be defined with the following attributes and methods:\n",
    "\n",
    "a. Attributes: name, team, height, weight\n",
    " \n",
    "b. Methods: sayHello\n",
    "\n",
    "The sayHello method should output the statement “Hello, my name is Max and I’m on the good guys”. The team attribute should be declared to a string of either “good” or “bad.” \n",
    "\n",
    "The other two classes, which will be subclasses, will be “GoodPlayers” and “BadPlayers.” Both classes will inherit “Characters” and super all the attributes that the superclass requires. The subclasses do not need any other methods or attributes. Instantiate one player on each team, and call the sayHello method for each. The output should result in the following:\n",
    "      >>> \"Hello, my name is Max and I'm on the good guys\"\n",
    "      >>> \"Hello, my name is Tony and I'm on the bad guys\""
   ]
  },
  {
   "cell_type": "code",
   "execution_count": 49,
   "id": "d47414b8",
   "metadata": {},
   "outputs": [
    {
     "name": "stdout",
     "output_type": "stream",
     "text": [
      "Hello, my name is Paul and I'm on the good guys\n"
     ]
    }
   ],
   "source": [
    "class Characters:\n",
    "    \n",
    "    def __init__(self, name, team, height, weight):\n",
    "        \n",
    "        self.name = name\n",
    "        self.team = team\n",
    "        self.height = height\n",
    "        self.weight = weight\n",
    "        \n",
    "    def sayHello (self):\n",
    "        \n",
    "        print (\"Hello, my name is {} and I'm on the {} guys\".format(self.name, self.team))\n",
    "        \n",
    "class GoodPlayers (Characters):\n",
    "    \n",
    "    def __init__ (self, name, team, height, weight):\n",
    "        \n",
    "        super( ).__init__(name, team, height, weight)\n",
    "\n",
    "    \n",
    "class BadPlayers (Characters):\n",
    "    \n",
    "    def __init__ (self, name, team, height, weight):\n",
    "        \n",
    "        super( ).__init__(name, team, height, weight)\n",
    "        \n",
    "player1 = GoodPlayers (\"Paul\", \"good\", 190, 80)\n",
    "player2 = BadPlayers (\"Sean\", \"bad\", 185, 90)\n",
    "\n",
    "player1.sayHello()"
   ]
  }
 ],
 "metadata": {
  "kernelspec": {
   "display_name": "Python 3 (ipykernel)",
   "language": "python",
   "name": "python3"
  },
  "language_info": {
   "codemirror_mode": {
    "name": "ipython",
    "version": 3
   },
   "file_extension": ".py",
   "mimetype": "text/x-python",
   "name": "python",
   "nbconvert_exporter": "python",
   "pygments_lexer": "ipython3",
   "version": "3.9.12"
  }
 },
 "nbformat": 4,
 "nbformat_minor": 5
}
